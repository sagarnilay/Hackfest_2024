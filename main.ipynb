{
 "cells": [
  {
   "cell_type": "code",
   "execution_count": 1,
   "metadata": {},
   "outputs": [],
   "source": [
    "import json\n",
    "import pandas as pd"
   ]
  },
  {
   "cell_type": "code",
   "execution_count": 25,
   "metadata": {},
   "outputs": [],
   "source": [
    "excel_df = pd.read_excel('hackfest.xlsx')\n",
    "json_df = pd.read_json('json_data.json')"
   ]
  },
  {
   "cell_type": "code",
   "execution_count": 12,
   "metadata": {},
   "outputs": [
    {
     "name": "stdout",
     "output_type": "stream",
     "text": [
      "20\n",
      "7\n"
     ]
    }
   ],
   "source": [
    "excel_count = len(excel_df)\n",
    "json_count = len(json_df)\n",
    "\n",
    "print(excel_count)\n",
    "print(json_count)"
   ]
  },
  {
   "cell_type": "code",
   "execution_count": 18,
   "metadata": {},
   "outputs": [
    {
     "name": "stdout",
     "output_type": "stream",
     "text": [
      "1      1.0\n",
      "2      2.0\n",
      "5      5.0\n",
      "7      7.0\n",
      "8      8.0\n",
      "9      9.0\n",
      "12    12.0\n",
      "15    15.0\n",
      "18    18.0\n",
      "19    19.0\n",
      "Name: ID, dtype: float64\n"
     ]
    }
   ],
   "source": [
    "severity_excel = excel_df[excel_df['Severity '] == \"Important\"]\n",
    "print(severity_excel['ID'])"
   ]
  },
  {
   "cell_type": "code",
   "execution_count": 20,
   "metadata": {},
   "outputs": [
    {
     "name": "stdout",
     "output_type": "stream",
     "text": [
      "Index(['Records'], dtype='object')\n"
     ]
    }
   ],
   "source": [
    "print(json_df.columns)"
   ]
  },
  {
   "cell_type": "code",
   "execution_count": 33,
   "metadata": {},
   "outputs": [],
   "source": [
    "excel_df['Severity'] = excel_df['Severity '].str.strip()\n"
   ]
  },
  {
   "cell_type": "code",
   "execution_count": 26,
   "metadata": {},
   "outputs": [
    {
     "name": "stdout",
     "output_type": "stream",
     "text": [
      "   ID Status   Severity Description   Title\n",
      "0   1   Open  Important   descript1  title1\n",
      "1   2   Open  Important   descript1  title1\n",
      "2   3   Open  Important   descript1  title1\n"
     ]
    }
   ],
   "source": [
    "severity_json = json_df[json_df['Severity'] == 'Important']\n",
    "print(severity_json)"
   ]
  },
  {
   "cell_type": "code",
   "execution_count": 35,
   "metadata": {},
   "outputs": [
    {
     "name": "stdout",
     "output_type": "stream",
     "text": [
      "   ID Status   Severity Description_x Title_x  Severity  Description_y Title_y\n",
      "0   1   Open  Important     descript1  title1  Important     descript1  title1\n",
      "1   2   Open  Important     descript1  title1  Important     descript2  title2\n"
     ]
    }
   ],
   "source": [
    "simiar_values = pd.merge(json_df, excel_df, on=['ID', 'Status', 'Severity'])\n",
    "print(simiar_values)\n",
    "\n",
    "\n"
   ]
  },
  {
   "cell_type": "code",
   "execution_count": null,
   "metadata": {},
   "outputs": [],
   "source": [
    "    "
   ]
  }
 ],
 "metadata": {
  "kernelspec": {
   "display_name": "Python 3",
   "language": "python",
   "name": "python3"
  },
  "language_info": {
   "codemirror_mode": {
    "name": "ipython",
    "version": 3
   },
   "file_extension": ".py",
   "mimetype": "text/x-python",
   "name": "python",
   "nbconvert_exporter": "python",
   "pygments_lexer": "ipython3",
   "version": "3.10.1"
  }
 },
 "nbformat": 4,
 "nbformat_minor": 2
}
