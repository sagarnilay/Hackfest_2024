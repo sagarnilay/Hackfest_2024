{
 "cells": [
  {
   "cell_type": "code",
   "execution_count": 1,
   "metadata": {},
   "outputs": [],
   "source": [
    "import json\n",
    "import pandas as pd"
   ]
  },
  {
   "cell_type": "code",
   "execution_count": 2,
   "metadata": {},
   "outputs": [],
   "source": [
    "json_data = [\n",
    "    {\"ID\": 1, \"Status\":\"Open\", \"Severity\": \"Important\", \"Description\": \"description1\", \"Title\": \"title1\"},\n",
    "    {\"ID\": 2, \"Status\":\"Open\", \"Severity\": \"Important\", \"Description\": \"description2\", \"Title\": \"title2\"},\n",
    "    {\"ID\": 3, \"Status\":\"Closed\", \"Severity\": \"Important\", \"Description\": \"description3\", \"Title\": \"title3\"},\n",
    "    {\"ID\": 4, \"Status\":\"Open\", \"Severity\": \"Important\", \"Description\": \"description4\", \"Title\": \"title4\"},\n",
    "    {\"ID\": 5, \"Status\":\"Closed\", \"Severity\": \"Important\", \"Description\": \"description5\", \"Title\": \"title5\"}\n",
    "]\n"
   ]
  },
  {
   "cell_type": "code",
   "execution_count": 3,
   "metadata": {},
   "outputs": [],
   "source": [
    "excel_df = pd.read_excel('hackfest.xlsx')\n",
    "json_df = pd.DataFrame(json_data)"
   ]
  },
  {
   "cell_type": "code",
   "execution_count": 4,
   "metadata": {},
   "outputs": [
    {
     "name": "stdout",
     "output_type": "stream",
     "text": [
      "20\n",
      "5\n"
     ]
    }
   ],
   "source": [
    "excel_count = len(excel_df)\n",
    "json_count = len(json_data)\n",
    "\n",
    "print(excel_count)\n",
    "print(json_count)"
   ]
  },
  {
   "cell_type": "code",
   "execution_count": 5,
   "metadata": {},
   "outputs": [
    {
     "name": "stdout",
     "output_type": "stream",
     "text": [
      "1      1.0\n",
      "2      2.0\n",
      "5      5.0\n",
      "7      7.0\n",
      "8      8.0\n",
      "9      9.0\n",
      "12    12.0\n",
      "15    15.0\n",
      "18    18.0\n",
      "19    19.0\n",
      "Name: ID, dtype: float64\n"
     ]
    }
   ],
   "source": [
    "status_imp = excel_df[excel_df['Severity '] == \"Important\"]\n",
    "print(status_imp['ID'])"
   ]
  },
  {
   "cell_type": "code",
   "execution_count": 6,
   "metadata": {},
   "outputs": [
    {
     "name": "stdout",
     "output_type": "stream",
     "text": [
      "   ID  Status   Severity   Description   Title\n",
      "0   1    Open  Important  description1  title1\n",
      "1   2    Open  Important  description2  title2\n",
      "2   3  Closed  Important  description3  title3\n",
      "3   4    Open  Important  description4  title4\n",
      "4   5  Closed  Important  description5  title5\n"
     ]
    }
   ],
   "source": [
    "status_json = json_df[json_df['Severity'] == 'Important']\n",
    "print(status_json)"
   ]
  }
 ],
 "metadata": {
  "kernelspec": {
   "display_name": "Python 3",
   "language": "python",
   "name": "python3"
  },
  "language_info": {
   "codemirror_mode": {
    "name": "ipython",
    "version": 3
   },
   "file_extension": ".py",
   "mimetype": "text/x-python",
   "name": "python",
   "nbconvert_exporter": "python",
   "pygments_lexer": "ipython3",
   "version": "3.10.1"
  }
 },
 "nbformat": 4,
 "nbformat_minor": 2
}
